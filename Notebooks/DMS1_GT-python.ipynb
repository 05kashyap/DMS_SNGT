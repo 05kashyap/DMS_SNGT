{
 "cells": [
  {
   "cell_type": "markdown",
   "metadata": {},
   "source": [
    "# An introduction to Graph Theory"
   ]
  },
  {
   "cell_type": "markdown",
   "metadata": {},
   "source": [
    "### First, why graph theory?\n",
    " Social networks have 2 major components: users and connections. In graph theory the fundamental units are nodes and edges, which can be used to represent users and their connections in meaningful ways. Graph theory concepts include directed graphs, and various centrality measures that allow us to assess and analyse the connections between users."
   ]
  },
  {
   "cell_type": "markdown",
   "metadata": {},
   "source": [
    "#### We can use adjacency list/ matrix to represent connections\n",
    "Say we have 6 nodes, a b c d e f the connections can be represented in a dictionary as:"
   ]
  },
  {
   "cell_type": "code",
   "execution_count": 884,
   "metadata": {},
   "outputs": [],
   "source": [
    "graph = { \"a\" : {\"c\"},\n",
    "          \"b\" : {\"c\", \"e\"},\n",
    "          \"c\" : {\"a\", \"b\", \"d\", \"e\"},\n",
    "          \"d\" : {\"c\"},\n",
    "          \"e\" : {\"c\", \"b\"},\n",
    "          \"f\" : {}\n",
    "        }"
   ]
  },
  {
   "cell_type": "markdown",
   "metadata": {},
   "source": [
    "We can implement some basic functions such as getting the edges of the graph"
   ]
  },
  {
   "cell_type": "code",
   "execution_count": 885,
   "metadata": {},
   "outputs": [],
   "source": [
    "def get_edges(graph):\n",
    "    ed = []\n",
    "    for node, c_node in graph.items():\n",
    "        for c in c_node:\n",
    "            ed.append({node, c})\n",
    "    \n",
    "    return ed"
   ]
  },
  {
   "cell_type": "code",
   "execution_count": 886,
   "metadata": {},
   "outputs": [
    {
     "name": "stdout",
     "output_type": "stream",
     "text": [
      "[{'c', 'a'}, {'c', 'b'}, {'b', 'e'}, {'c', 'd'}, {'c', 'b'}, {'c', 'a'}, {'c', 'e'}, {'d', 'c'}, {'c', 'e'}, {'b', 'e'}]\n"
     ]
    }
   ],
   "source": [
    "print(get_edges(graph))"
   ]
  },
  {
   "cell_type": "markdown",
   "metadata": {},
   "source": [
    "Finding degree of a vertex (in the case of undirected graph)"
   ]
  },
  {
   "cell_type": "code",
   "execution_count": 887,
   "metadata": {},
   "outputs": [],
   "source": [
    "def get_degree(graph, node):\n",
    "    return len(graph[node])"
   ]
  },
  {
   "cell_type": "code",
   "execution_count": 888,
   "metadata": {},
   "outputs": [
    {
     "name": "stdout",
     "output_type": "stream",
     "text": [
      "4\n"
     ]
    }
   ],
   "source": [
    "print(get_degree(graph,\"c\"))"
   ]
  },
  {
   "cell_type": "markdown",
   "metadata": {},
   "source": [
    "#### Adding some more functions it can be made into a user defined data type containing possible paths and more"
   ]
  },
  {
   "cell_type": "code",
   "execution_count": 889,
   "metadata": {},
   "outputs": [],
   "source": [
    "class Graph(object):\n",
    "\n",
    "    def __init__(self, graph_dict=None):\n",
    "        \"\"\" initializes a graph object \n",
    "            If no dictionary or None is given, \n",
    "            an empty dictionary will be used\n",
    "        \"\"\"\n",
    "        if graph_dict == None:\n",
    "            graph_dict = {}\n",
    "        self._graph_dict = graph_dict\n",
    "\n",
    "    def edges(self, vertice):\n",
    "        \"\"\" returns a list of all the edges of a vertice\"\"\"\n",
    "        return self._graph_dict[vertice]\n",
    "        \n",
    "    def all_vertices(self):\n",
    "        \"\"\" returns the vertices of a graph as a set \"\"\"\n",
    "        return set(self._graph_dict.keys())\n",
    "\n",
    "    def all_edges(self):\n",
    "        \"\"\" returns the edges of a graph \"\"\"\n",
    "        return self.__generate_edges()\n",
    "\n",
    "    def add_vertex(self, vertex):\n",
    "        if vertex not in self._graph_dict:\n",
    "            self._graph_dict[vertex] = []\n",
    "\n",
    "    def add_edge(self, edge):\n",
    "        edge = set(edge)\n",
    "        vertex1, vertex2 = tuple(edge)\n",
    "        for x, y in [(vertex1, vertex2), (vertex2, vertex1)]:\n",
    "            if x in self._graph_dict:\n",
    "                self._graph_dict[x].append(y)\n",
    "            else:\n",
    "                self._graph_dict[x] = [y]\n",
    "\n",
    "    def __generate_edges(self):\n",
    "        edges = []\n",
    "        for vertex in self._graph_dict:\n",
    "            for neighbour in self._graph_dict[vertex]:\n",
    "                if {neighbour, vertex} not in edges:\n",
    "                    edges.append({vertex, neighbour})\n",
    "        return edges\n",
    "    \n",
    "    def find_path(self, start_vertex, end_vertex, path=None):\n",
    "        \"\"\" find a path from start_vertex to end_vertex \n",
    "            in graph \"\"\"\n",
    "        if path == None:\n",
    "            path = []\n",
    "        graph = self._graph_dict\n",
    "        path = path + [start_vertex]\n",
    "        if start_vertex == end_vertex:\n",
    "            return path\n",
    "        if start_vertex not in graph:\n",
    "            return None\n",
    "        for vertex in graph[start_vertex]:\n",
    "            if vertex not in path:\n",
    "                extended_path = self.find_path(vertex, \n",
    "                                               end_vertex, \n",
    "                                               path)\n",
    "                if extended_path: \n",
    "                    return extended_path\n",
    "        return None\n",
    "    \n",
    "    \n",
    "    def find_all_paths(self, start_vertex, end_vertex, path=[]):\n",
    "\n",
    "        graph = self._graph_dict \n",
    "        path = path + [start_vertex]\n",
    "        if start_vertex == end_vertex:\n",
    "            return [path]\n",
    "        if start_vertex not in graph:\n",
    "            return []\n",
    "        paths = []\n",
    "        for vertex in graph[start_vertex]:\n",
    "            if vertex not in path:\n",
    "                extended_paths = self.find_all_paths(vertex, \n",
    "                                                     end_vertex, \n",
    "                                                     path)\n",
    "                for p in extended_paths: \n",
    "                    paths.append(p)\n",
    "        return paths\n",
    "    \n",
    "    def vertex_degree(self, vertex):\n",
    "        degree =  len(self._graph_dict[vertex]) \n",
    "        if vertex in self._graph_dict[vertex]:\n",
    "            degree += 1\n",
    "        return degree\n",
    "\n",
    "    def find_isolated_vertices(self):\n",
    "        \"\"\" returns a list of isolated vertices. \"\"\"\n",
    "        graph = self._graph_dict\n",
    "        isolated = []\n",
    "        for vertex in graph:\n",
    "            print(isolated, vertex)\n",
    "            if not graph[vertex]:\n",
    "                isolated += [vertex]\n",
    "        return isolated\n",
    "        \n",
    "    def MaxDeg(self):\n",
    "        \"\"\" the maximum degree of the vertices \"\"\"\n",
    "        max = 0\n",
    "        for vertex in self._graph_dict:\n",
    "            vertex_degree = self.vertex_degree(vertex)\n",
    "            if vertex_degree > max:\n",
    "                max = vertex_degree\n",
    "        return max\n",
    "    \n",
    "    def degree_sequence(self):\n",
    "        \"\"\" calculates the degree sequence \"\"\"\n",
    "        seq = []\n",
    "        for vertex in self._graph_dict:\n",
    "            seq.append(self.vertex_degree(vertex))\n",
    "        seq.sort(reverse=True)\n",
    "        return tuple(seq)"
   ]
  },
  {
   "cell_type": "code",
   "execution_count": 890,
   "metadata": {},
   "outputs": [],
   "source": [
    "g = Graph(graph)"
   ]
  },
  {
   "cell_type": "code",
   "execution_count": 891,
   "metadata": {},
   "outputs": [
    {
     "name": "stdout",
     "output_type": "stream",
     "text": [
      "{'c', 'd', 'b', 'f', 'a', 'e'}\n"
     ]
    }
   ],
   "source": [
    "print(g.all_vertices())"
   ]
  },
  {
   "cell_type": "code",
   "execution_count": 892,
   "metadata": {},
   "outputs": [
    {
     "data": {
      "text/plain": [
       "(4, 2, 2, 1, 1, 0)"
      ]
     },
     "execution_count": 892,
     "metadata": {},
     "output_type": "execute_result"
    }
   ],
   "source": [
    "g.degree_sequence()"
   ]
  },
  {
   "cell_type": "markdown",
   "metadata": {},
   "source": [
    "# Adding Edge Weights\n",
    "for edges to actually mean something, they have to have strength, or weight. We can do this by passing edges as a tuple with weights."
   ]
  },
  {
   "cell_type": "code",
   "execution_count": 893,
   "metadata": {},
   "outputs": [],
   "source": [
    "graph_with_weights = {\n",
    "  'A': [('B', 4), ('C', 2)],\n",
    "  'B': [('C', 1), ('D', 2), ('E', 3)], \n",
    "  'C': [('B', 1), ('D', 4), ('E', 5)],\n",
    "  'D': [],\n",
    "  'E': [('D',1)]\n",
    "}\n"
   ]
  },
  {
   "cell_type": "code",
   "execution_count": 894,
   "metadata": {},
   "outputs": [
    {
     "name": "stdout",
     "output_type": "stream",
     "text": [
      "9223372036854775807\n"
     ]
    }
   ],
   "source": [
    "import sys\n",
    "infinity = sys.maxsize\n",
    "print(infinity)"
   ]
  },
  {
   "cell_type": "markdown",
   "metadata": {},
   "source": [
    "## Implementing algorithms with this:\n",
    "### 1. dijkstra's algorithm for shortest path"
   ]
  },
  {
   "cell_type": "code",
   "execution_count": 895,
   "metadata": {},
   "outputs": [],
   "source": [
    "def dijkstra(graph, source):\n",
    "    infinity = sys.maxsize\n",
    "    dist_inf = {}\n",
    "    not_visited = list(graph.keys())\n",
    "    for node in graph:\n",
    "        if node == source:\n",
    "            dist_inf[str(node)] = 0\n",
    "        else:\n",
    "            dist_inf[str(node)] = infinity\n",
    "    #print(dis)\n",
    "    curr_node = source\n",
    "    while(len(not_visited) >0):\n",
    "        if (curr_node in not_visited):\n",
    "            print(f\"current:{curr_node}, visited: {not_visited}\")\n",
    "            node_info = graph[str(curr_node)]\n",
    "            smallest = sys.maxsize\n",
    "            for n in node_info:       \n",
    "                if(n[1]<smallest and n[0] in not_visited):\n",
    "                    smallest = n[1]\n",
    "                    next_node = n[0]\n",
    "            #print(next_node)\n",
    "            #print(node_info)\n",
    "            for path in node_info:\n",
    "                if(path[1] + dist_inf[curr_node] < dist_inf[path[0]]):\n",
    "                    dist_inf[path[0]] = path[1] + dist_inf[curr_node]\n",
    "        #else:\n",
    "           # next_node =\n",
    "            #print(curr_node) \n",
    "            not_visited.remove(curr_node)\n",
    "        else:\n",
    "            #print(\"enterred else\")\n",
    "            #print(curr_node)\n",
    "            node_info = graph[str(curr_node)]\n",
    "            #print(node_info)\n",
    "            cand = [i for i in not_visited]\n",
    "            #print(cand)\n",
    "            next_node  = min(cand)\n",
    "            \n",
    "        curr_node = next_node\n",
    "        #print(not_visited)\n",
    "        #print(\"dst_inf\", dist_inf)\n",
    "    return dist_inf"
   ]
  },
  {
   "cell_type": "code",
   "execution_count": 896,
   "metadata": {},
   "outputs": [
    {
     "name": "stdout",
     "output_type": "stream",
     "text": [
      "current:A, visited: ['A', 'B', 'C', 'D', 'E']\n",
      "current:C, visited: ['B', 'C', 'D', 'E']\n",
      "current:B, visited: ['B', 'D', 'E']\n",
      "current:D, visited: ['D', 'E']\n",
      "current:E, visited: ['E']\n"
     ]
    },
    {
     "data": {
      "text/plain": [
       "{'A': 0, 'B': 3, 'C': 2, 'D': 5, 'E': 6}"
      ]
     },
     "execution_count": 896,
     "metadata": {},
     "output_type": "execute_result"
    }
   ],
   "source": [
    "dijkstra(graph_with_weights, 'A')"
   ]
  },
  {
   "cell_type": "markdown",
   "metadata": {},
   "source": [
    "# We realised that implementing all of the functions manually was not feasible. We needed a way to handle and visualise large data sets"
   ]
  }
 ],
 "metadata": {
  "kernelspec": {
   "display_name": "Python 3",
   "language": "python",
   "name": "python3"
  },
  "language_info": {
   "codemirror_mode": {
    "name": "ipython",
    "version": 3
   },
   "file_extension": ".py",
   "mimetype": "text/x-python",
   "name": "python",
   "nbconvert_exporter": "python",
   "pygments_lexer": "ipython3",
   "version": "3.11.2"
  },
  "orig_nbformat": 4
 },
 "nbformat": 4,
 "nbformat_minor": 2
}
