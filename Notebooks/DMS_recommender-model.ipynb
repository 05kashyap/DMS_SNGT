{
 "cells": [
  {
   "cell_type": "code",
   "execution_count": 10,
   "metadata": {},
   "outputs": [],
   "source": [
    "import networkx as nx"
   ]
  },
  {
   "cell_type": "code",
   "execution_count": 11,
   "metadata": {},
   "outputs": [],
   "source": [
    "#['Abhay', 'Vijay', 'Ragha', 'Balaji', 'Anu'] ['Abhay', 'Ragha', 'Aryan', 'Abhishek', 'Adya']\n",
    "social_g = {\n",
    "  'Aryan': [('Adya', 4), ('Vijay', 2), ('Ragha', 1)],\n",
    "  'Adya': [('Aryan', 1), ('Vijay', 2), ('Abhishek', 3)], \n",
    "  'Abhay': [('Aryan', 1), ('Abhishek', 4), ('Anu', 5)],\n",
    "  'Abhishek': [('Adya', 2), ('Vijay', 3)],\n",
    "  'Akash': [('Balaji',1), ('Ragha', 5)],\n",
    "  'Vijay': [('Abhay', 1), ('Adya', 4), ('Abhishek', 5)],\n",
    "  'Ragha': [('Aryan', 1), ('Abhay', 4), ('Vijay', 5)],\n",
    "  'Anu': [('Balaji', 1), ('Aryan', 4)],\n",
    "  'Balaji': [('Adya', 1), ('Aryan', 4), ('Abhay', 5)],\n",
    "  'Nigga': [],\n",
    "}\n",
    "Social = nx.DiGraph()\n",
    "for node in social_g:\n",
    "    for k in social_g[node]:\n",
    "        Social.add_edge(node, k[0], weight= k[1])"
   ]
  },
  {
   "cell_type": "code",
   "execution_count": 12,
   "metadata": {},
   "outputs": [
    {
     "name": "stdout",
     "output_type": "stream",
     "text": [
      "{'Aryan': 0.75, 'Adya': 0.5, 'Vijay': 0.625, 'Ragha': 0.5, 'Abhishek': 0.375, 'Abhay': 0.75, 'Anu': 0.375, 'Akash': 0.25, 'Balaji': 0.625}\n",
      "['Abhay', 'Ragha', 'Aryan', 'Abhishek', 'Adya']\n"
     ]
    }
   ],
   "source": [
    "def generate_user_follow_suggestions(user_follow_data, user):\n",
    "    # Create a graph to represent user follow relationships\n",
    "    Social = nx.Graph()\n",
    "\n",
    "    # Add user nodes and their follow relationships as edges\n",
    "    for node in user_follow_data:\n",
    "        for k in user_follow_data[node]:\n",
    "            Social.add_edge(node, k[0], weight= k[1])\n",
    "\n",
    "    # Perform user follow suggestions using graph algorithms\n",
    "    suggestions = []\n",
    "    degree_centrality = nx.degree_centrality(Social)\n",
    "    eigenvector_centrality = nx.eigenvector_centrality(Social, max_iter=1000)\n",
    "    sorted_users = sorted(eigenvector_centrality.items(), key=lambda x: x[1], reverse=True)\n",
    "    user_to_recommend = user\n",
    "    print(degree_centrality)\n",
    "\n",
    "    \n",
    "    if(user not in degree_centrality):\n",
    "        suggestions += list(nx.articulation_points(Social))\n",
    "        for user, centrality in sorted_users:\n",
    "            if user != user_to_recommend and Social.has_edge(user_to_recommend, user) == False:\n",
    "                suggestions.append(user)\n",
    "                if len(suggestions) >= 5:  # Limit the number of recommendations\n",
    "                    break\n",
    "\n",
    "    else:\n",
    "        pagerank_scores = nx.pagerank(Social)\n",
    "        neighbours = list(Social.neighbors(user))\n",
    "        n = 5\n",
    "        neighbours_sorted = sorted(neighbours,\n",
    "            key= lambda x: pagerank_scores[x], reverse=True)\n",
    "    \n",
    "        suggestions += neighbours_sorted[:n]\n",
    "\n",
    "    return suggestions\n",
    "\n",
    "# Example user follow data (follower, following)\n",
    "user_follow_data = social_g\n",
    "\n",
    "user_follow_suggestions = generate_user_follow_suggestions(user_follow_data, 'Vijay')\n",
    "print(user_follow_suggestions)"
   ]
  },
  {
   "cell_type": "code",
   "execution_count": null,
   "metadata": {},
   "outputs": [],
   "source": []
  }
 ],
 "metadata": {
  "kernelspec": {
   "display_name": "Python 3",
   "language": "python",
   "name": "python3"
  },
  "language_info": {
   "codemirror_mode": {
    "name": "ipython",
    "version": 3
   },
   "file_extension": ".py",
   "mimetype": "text/x-python",
   "name": "python",
   "nbconvert_exporter": "python",
   "pygments_lexer": "ipython3",
   "version": "3.11.2"
  },
  "orig_nbformat": 4
 },
 "nbformat": 4,
 "nbformat_minor": 2
}
