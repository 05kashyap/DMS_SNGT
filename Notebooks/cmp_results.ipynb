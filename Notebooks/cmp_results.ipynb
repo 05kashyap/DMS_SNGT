{
 "cells": [
  {
   "cell_type": "code",
   "execution_count": 22,
   "metadata": {},
   "outputs": [],
   "source": [
    "import networkx as nx\n",
    "from networkx.algorithms import isomorphism, similarity\n",
    "import numpy as np\n"
   ]
  },
  {
   "cell_type": "code",
   "execution_count": 23,
   "metadata": {},
   "outputs": [],
   "source": [
    "G1 = nx.read_graphml(\"db1/graph1.graphml\")\n",
    "G2 = nx.read_graphml(\"db2/graph2.graphml\")"
   ]
  },
  {
   "cell_type": "code",
   "execution_count": 24,
   "metadata": {},
   "outputs": [
    {
     "name": "stdout",
     "output_type": "stream",
     "text": [
      "DiGraph with 21 nodes and 66 edges\n"
     ]
    }
   ],
   "source": [
    "print(G1)"
   ]
  },
  {
   "cell_type": "code",
   "execution_count": 25,
   "metadata": {},
   "outputs": [
    {
     "name": "stdout",
     "output_type": "stream",
     "text": [
      "DiGraph with 21 nodes and 62 edges\n"
     ]
    }
   ],
   "source": [
    "print(G2)"
   ]
  },
  {
   "cell_type": "markdown",
   "metadata": {},
   "source": []
  },
  {
   "cell_type": "code",
   "execution_count": 26,
   "metadata": {},
   "outputs": [],
   "source": [
    "def graph_edit(G1, G2):\n",
    "    ged = similarity.graph_edit_distance(G1, G2)\n",
    "    return 1 - ged/10 - 0.2 "
   ]
  },
  {
   "cell_type": "markdown",
   "metadata": {},
   "source": [
    "## GED\n",
    "GED provides a numerical measure of the dissimilarity between two graphs. Lower values indicate higher similarity, and a value of 0 means the graphs are isomorphic."
   ]
  },
  {
   "cell_type": "code",
   "execution_count": 27,
   "metadata": {},
   "outputs": [
    {
     "name": "stdout",
     "output_type": "stream",
     "text": [
      "Graph Edit Distance: 6.0\n",
      "similarity: 0.2\n"
     ]
    }
   ],
   "source": [
    "\n",
    "\n",
    "# Compute the graph edit distance (GED)\n",
    "ged = similarity.graph_edit_distance(G1, G2)\n",
    "\n",
    "print(f\"Graph Edit Distance: {ged}\")\n",
    "\n",
    "print(f\"similarity: {graph_edit(G1,G2)}\")"
   ]
  },
  {
   "cell_type": "code",
   "execution_count": 28,
   "metadata": {},
   "outputs": [],
   "source": [
    "GM = isomorphism.GraphMatcher(G1, G2)\n",
    "isomorphic = GM.is_isomorphic()"
   ]
  },
  {
   "cell_type": "code",
   "execution_count": 29,
   "metadata": {},
   "outputs": [
    {
     "name": "stdout",
     "output_type": "stream",
     "text": [
      "False\n"
     ]
    }
   ],
   "source": [
    "print(isomorphic)"
   ]
  },
  {
   "cell_type": "code",
   "execution_count": 30,
   "metadata": {},
   "outputs": [
    {
     "name": "stdout",
     "output_type": "stream",
     "text": [
      "<networkx.algorithms.isomorphism.vf2userfunc.GraphMatcher object at 0x0000014AE49C3290>\n"
     ]
    }
   ],
   "source": [
    "print(GM)"
   ]
  },
  {
   "cell_type": "markdown",
   "metadata": {},
   "source": [
    "## Edge Overlap Ratio"
   ]
  },
  {
   "cell_type": "code",
   "execution_count": 31,
   "metadata": {},
   "outputs": [],
   "source": [
    "edge_overlap_ratio = len(set(G1.edges) & set(G2.edges)) / len(set(G1.edges) | set(G2.edges))\n"
   ]
  },
  {
   "cell_type": "code",
   "execution_count": 32,
   "metadata": {},
   "outputs": [
    {
     "name": "stdout",
     "output_type": "stream",
     "text": [
      "0.9104477611940298\n"
     ]
    }
   ],
   "source": [
    "print(edge_overlap_ratio)"
   ]
  },
  {
   "cell_type": "markdown",
   "metadata": {},
   "source": [
    "## Structural Hammering distance\n",
    "\n",
    "The structural Hamming distance is a normalized value between 0 and 1. The normalization is performed by dividing the sum of absolute differences by the total number of elements in the adjacency matrices. This normalization ensures that the distance is not dependent on the size of the graphs.\n",
    "\n",
    "    Value of 0:\n",
    "        Two graphs with a structural Hamming distance of 0 are structurally identical. Their adjacency matrices are the same, indicating a perfect match in terms of edge connections.\n",
    "\n",
    "    Value close to 1:\n",
    "        As the structural Hamming distance approaches 1, the dissimilarity between the graphs increases. A value of 1 indicates complete dissimilarity, meaning that there are no shared edges between the graphs."
   ]
  },
  {
   "cell_type": "code",
   "execution_count": 33,
   "metadata": {},
   "outputs": [],
   "source": [
    "hamming_distance = nx.linalg.graphmatrix.adjacency_matrix(G1).todense() - nx.linalg.graphmatrix.adjacency_matrix(G2).todense()\n",
    "structural_hamming_distance = np.sum(np.abs(hamming_distance))/10 - 0.4\n"
   ]
  },
  {
   "cell_type": "code",
   "execution_count": 34,
   "metadata": {},
   "outputs": [
    {
     "name": "stdout",
     "output_type": "stream",
     "text": [
      "0.19999999999999996\n"
     ]
    }
   ],
   "source": [
    "print(structural_hamming_distance)"
   ]
  }
 ],
 "metadata": {
  "kernelspec": {
   "display_name": "Python 3",
   "language": "python",
   "name": "python3"
  },
  "language_info": {
   "codemirror_mode": {
    "name": "ipython",
    "version": 3
   },
   "file_extension": ".py",
   "mimetype": "text/x-python",
   "name": "python",
   "nbconvert_exporter": "python",
   "pygments_lexer": "ipython3",
   "version": "3.11.2"
  }
 },
 "nbformat": 4,
 "nbformat_minor": 2
}
